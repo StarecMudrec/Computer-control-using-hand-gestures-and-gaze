{
 "cells": [
  {
   "cell_type": "code",
   "execution_count": null,
   "metadata": {},
   "outputs": [],
   "source": [
    "%pip install mediapipe\n",
    "%pip install opencv-python\n",
    "%pip install numpy\n",
    "%pip install pycaw"
   ]
  },
  {
   "cell_type": "code",
   "execution_count": 2,
   "metadata": {},
   "outputs": [],
   "source": [
    "import cv2\n",
    "import mediapipe as mp\n",
    "import time\n",
    "import math"
   ]
  },
  {
   "cell_type": "code",
   "execution_count": 20,
   "metadata": {},
   "outputs": [],
   "source": [
    "class handDetector():\n",
    "\tdef __init__(self, mode=False, maxHands=2, modelComplexity=1, detectionCon=0.5, trackCon=0.5):\n",
    "\t\tself.mode = mode\n",
    "\t\tself.maxHands = maxHands\n",
    "\t\tself.modelComplexity = modelComplexity\n",
    "\t\tself.detectionCon = detectionCon\n",
    "\t\tself.trackCon = trackCon\n",
    "\n",
    "\t\tself.mpHands = mp.solutions.hands\n",
    "\t\tself.hands = self.mpHands.Hands(self.mode, self.maxHands, self.modelComplexity, self.detectionCon, self.trackCon)\n",
    "\t\tself.mpDraw = mp.solutions.drawing_utils\n",
    "\t\tself.tipIds = [4, 8, 12, 16, 20] \n",
    "\n",
    "\tdef findHands(self, img, draw: True):\n",
    "\t\timgRGB = cv2.cvtColor(img, cv2.COLOR_BGR2RGB)\n",
    "\t\tself.results = self.hands.process(imgRGB)\n",
    "\n",
    "\t\tif self.results.multi_hand_landmarks:\n",
    "\t\t\tfor handLms in self.results.multi_hand_landmarks:\n",
    "\t\t\t\tif draw:\n",
    "\t\t\t\t\tself.mpDraw.draw_landmarks(img, handLms, self.mpHands.HAND_CONNECTIONS)\n",
    "\t\treturn img\n",
    "\n",
    "\tdef findPosition(self, img, handNo=0, draw=True):\n",
    "\t\txList = []\n",
    "\t\tyList = []\n",
    "\t\tbbox = []\n",
    "\t\tself.lmList = []\n",
    "\t\tif self.results.multi_hand_landmarks:\n",
    "\t\t\tmyHand = self.results.multi_hand_landmarks[handNo]\n",
    "\t\t\tfor id, lm in enumerate(myHand.landmark):\n",
    "\t\t\t\t#print(id, lm)\n",
    "\t\t\t\th, w, c = img.shape\n",
    "\t\t\t\tcx, cy = int(lm.x*w), int(lm.y*h)\n",
    "\t\t\t\txList.append(cx)\n",
    "\t\t\t\tyList.append(cy)\n",
    "\t\t\t\tself.lmList.append([id, cx, cy])\n",
    "\t\t\t\tif draw:\n",
    "\t\t\t\t\tcv2.circle(img, (cx, cy), 5, (255,0,255), cv2.FILLED)\n",
    "\t\t\txmin, xmax = min(xList), max(xList)\n",
    "\t\t\tymin, ymax = min(yList), max(yList)\n",
    "\t\t\tbbox = xmin, ymin, xmax, ymax\n",
    "\n",
    "\t\t\tif draw:\n",
    "\t\t\t\tcv2.rectangle(img, (bbox[0]-20, bbox[1]-20), (bbox[2]+20, bbox[3]+20), (0, 255, 0), 2)\n",
    "\t\treturn self.lmList, bbox\n",
    "\n",
    "\tdef findDistance(self, p1, p2, img, draw=True):\n",
    "\t\tx1, y1 = self.lmList[p1][1], self.lmList[p1][2]\n",
    "\t\tx2, y2 = self.lmList[p2][1], self.lmList[p2][2]\n",
    "\t\tcx, cy = (x1+x2)//2, (y1+y2)//2\n",
    "\n",
    "\t\tif draw:\n",
    "\t\t\tcv2.circle(img, (x1,y1), 15, (255,0,255), cv2.FILLED)\n",
    "\t\t\tcv2.circle(img, (x2,y2), 15, (255,0,255), cv2.FILLED)\n",
    "\t\t\tcv2.line(img, (x1,y1), (x2,y2), (255,0,255), 3)\n",
    "\t\t\tcv2.circle(img, (cx,cy), 15, (255,0,255), cv2.FILLED)\n",
    "\n",
    "\t\tlength = math.hypot(x2-x1, y2-y1)\n",
    "\t\treturn length, img, [x1, y1, x2, y2, cx, cy]\n",
    "\n",
    "\tdef fingersUp(self):\n",
    "\t\tfingers = []\n",
    "\n",
    "\t\t# Thumb\n",
    "\t\tif self.lmList[self.tipIds[0]][1] < self.lmList[self.tipIds[0]-1][1]:\n",
    "\t\t\tfingers.append(1)\n",
    "\t\telse:\n",
    "\t\t\tfingers.append(0)\n",
    "\n",
    "\t\t# 4 Fingers\n",
    "\t\tfor id in range(1,5):\n",
    "\t\t\tif self.lmList[self.tipIds[id]][2] < self.lmList[self.tipIds[id]-2][2]:\n",
    "\t\t\t\tfingers.append(1)\n",
    "\t\t\telse:\n",
    "\t\t\t\tfingers.append(0)\n",
    "\t\treturn fingers"
   ]
  },
  {
   "cell_type": "code",
   "execution_count": 5,
   "metadata": {},
   "outputs": [],
   "source": [
    "import cv2\n",
    "import time\n",
    "import numpy as np\n",
    "import math\n",
    "from ctypes import cast, POINTER\n",
    "from comtypes import CLSCTX_ALL\n",
    "from pycaw.pycaw import AudioUtilities, IAudioEndpointVolume"
   ]
  },
  {
   "cell_type": "code",
   "execution_count": 6,
   "metadata": {},
   "outputs": [],
   "source": [
    "wCam, hCam = 1280, 720 # размер окна\n",
    "\n",
    "cap = cv2.VideoCapture(0)\n",
    "cap.set(3, wCam)\n",
    "cap.set(4, hCam)\n",
    "pTime = 0"
   ]
  },
  {
   "cell_type": "code",
   "execution_count": 21,
   "metadata": {},
   "outputs": [],
   "source": [
    "detector = handDetector(detectionCon=0.7, maxHands=1)\n",
    "\n",
    "devices = AudioUtilities.GetSpeakers()\n",
    "interface = devices.Activate(IAudioEndpointVolume._iid_, CLSCTX_ALL, None)\n",
    "volume = cast(interface, POINTER(IAudioEndpointVolume))\n",
    "volRange = volume.GetVolumeRange()\n",
    "volume.SetMasterVolumeLevel(0, None)\n",
    "minVol = volRange[0]\n",
    "maxVol = volRange[1]\n",
    "vol = 0\n",
    "volBar = 400\n",
    "volPer = 0\n",
    "area = 0\n",
    "colorVol = (255, 0, 0)"
   ]
  },
  {
   "cell_type": "code",
   "execution_count": 22,
   "metadata": {},
   "outputs": [
    {
     "ename": "AttributeError",
     "evalue": "'NoneType' object has no attribute 'shape'",
     "output_type": "error",
     "traceback": [
      "\u001b[1;31m---------------------------------------------------------------------------\u001b[0m",
      "\u001b[1;31mAttributeError\u001b[0m                            Traceback (most recent call last)",
      "\u001b[1;32m<ipython-input-22-1eae33544f7e>\u001b[0m in \u001b[0;36m<module>\u001b[1;34m\u001b[0m\n\u001b[0;32m      2\u001b[0m     \u001b[0m_\u001b[0m\u001b[1;33m,\u001b[0m \u001b[0mimg\u001b[0m \u001b[1;33m=\u001b[0m \u001b[0mcap\u001b[0m\u001b[1;33m.\u001b[0m\u001b[0mread\u001b[0m\u001b[1;33m(\u001b[0m\u001b[1;33m)\u001b[0m\u001b[1;33m\u001b[0m\u001b[1;33m\u001b[0m\u001b[0m\n\u001b[0;32m      3\u001b[0m \u001b[1;33m\u001b[0m\u001b[0m\n\u001b[1;32m----> 4\u001b[1;33m     \u001b[0mimg\u001b[0m \u001b[1;33m=\u001b[0m \u001b[0mdetector\u001b[0m\u001b[1;33m.\u001b[0m\u001b[0mfindHands\u001b[0m\u001b[1;33m(\u001b[0m\u001b[0mimg\u001b[0m\u001b[1;33m,\u001b[0m \u001b[0mdraw\u001b[0m\u001b[1;33m=\u001b[0m\u001b[1;32mTrue\u001b[0m\u001b[1;33m)\u001b[0m\u001b[1;33m\u001b[0m\u001b[1;33m\u001b[0m\u001b[0m\n\u001b[0m\u001b[0;32m      5\u001b[0m     \u001b[0mfingers\u001b[0m \u001b[1;33m=\u001b[0m \u001b[0mdetector\u001b[0m\u001b[1;33m.\u001b[0m\u001b[0mfingersUp\u001b[0m\u001b[1;33m(\u001b[0m\u001b[1;33m)\u001b[0m\u001b[1;33m\u001b[0m\u001b[1;33m\u001b[0m\u001b[0m\n\u001b[0;32m      6\u001b[0m     \u001b[0mlmList\u001b[0m\u001b[1;33m,\u001b[0m \u001b[0mbbox\u001b[0m \u001b[1;33m=\u001b[0m \u001b[0mdetector\u001b[0m\u001b[1;33m.\u001b[0m\u001b[0mfindPosition\u001b[0m\u001b[1;33m(\u001b[0m\u001b[0mimg\u001b[0m\u001b[1;33m,\u001b[0m \u001b[0mdraw\u001b[0m\u001b[1;33m=\u001b[0m\u001b[1;32mTrue\u001b[0m\u001b[1;33m)\u001b[0m\u001b[1;33m\u001b[0m\u001b[1;33m\u001b[0m\u001b[0m\n",
      "\u001b[1;32m<ipython-input-20-90b08969cc73>\u001b[0m in \u001b[0;36mfindHands\u001b[1;34m(self, img, draw)\u001b[0m\n\u001b[0;32m     14\u001b[0m         \u001b[1;32mdef\u001b[0m \u001b[0mfindHands\u001b[0m\u001b[1;33m(\u001b[0m\u001b[0mself\u001b[0m\u001b[1;33m,\u001b[0m \u001b[0mimg\u001b[0m\u001b[1;33m,\u001b[0m \u001b[0mdraw\u001b[0m\u001b[1;33m:\u001b[0m \u001b[1;32mTrue\u001b[0m\u001b[1;33m)\u001b[0m\u001b[1;33m:\u001b[0m\u001b[1;33m\u001b[0m\u001b[1;33m\u001b[0m\u001b[0m\n\u001b[0;32m     15\u001b[0m                 \u001b[1;31m#imgRGB = cv2.cvtColor(img, cv2.COLOR_BGR2RGB)\u001b[0m\u001b[1;33m\u001b[0m\u001b[1;33m\u001b[0m\u001b[1;33m\u001b[0m\u001b[0m\n\u001b[1;32m---> 16\u001b[1;33m                 \u001b[0mself\u001b[0m\u001b[1;33m.\u001b[0m\u001b[0mresults\u001b[0m \u001b[1;33m=\u001b[0m \u001b[0mself\u001b[0m\u001b[1;33m.\u001b[0m\u001b[0mhands\u001b[0m\u001b[1;33m.\u001b[0m\u001b[0mprocess\u001b[0m\u001b[1;33m(\u001b[0m\u001b[0mimg\u001b[0m\u001b[1;33m)\u001b[0m\u001b[1;33m\u001b[0m\u001b[1;33m\u001b[0m\u001b[0m\n\u001b[0m\u001b[0;32m     17\u001b[0m \u001b[1;33m\u001b[0m\u001b[0m\n\u001b[0;32m     18\u001b[0m                 \u001b[1;32mif\u001b[0m \u001b[0mself\u001b[0m\u001b[1;33m.\u001b[0m\u001b[0mresults\u001b[0m\u001b[1;33m.\u001b[0m\u001b[0mmulti_hand_landmarks\u001b[0m\u001b[1;33m:\u001b[0m\u001b[1;33m\u001b[0m\u001b[1;33m\u001b[0m\u001b[0m\n",
      "\u001b[1;32md:\\anaconda\\lib\\site-packages\\mediapipe\\python\\solutions\\hands.py\u001b[0m in \u001b[0;36mprocess\u001b[1;34m(self, image)\u001b[0m\n\u001b[0;32m    151\u001b[0m     \"\"\"\n\u001b[0;32m    152\u001b[0m \u001b[1;33m\u001b[0m\u001b[0m\n\u001b[1;32m--> 153\u001b[1;33m     \u001b[1;32mreturn\u001b[0m \u001b[0msuper\u001b[0m\u001b[1;33m(\u001b[0m\u001b[1;33m)\u001b[0m\u001b[1;33m.\u001b[0m\u001b[0mprocess\u001b[0m\u001b[1;33m(\u001b[0m\u001b[0minput_data\u001b[0m\u001b[1;33m=\u001b[0m\u001b[1;33m{\u001b[0m\u001b[1;34m'image'\u001b[0m\u001b[1;33m:\u001b[0m \u001b[0mimage\u001b[0m\u001b[1;33m}\u001b[0m\u001b[1;33m)\u001b[0m\u001b[1;33m\u001b[0m\u001b[1;33m\u001b[0m\u001b[0m\n\u001b[0m",
      "\u001b[1;32md:\\anaconda\\lib\\site-packages\\mediapipe\\python\\solution_base.py\u001b[0m in \u001b[0;36mprocess\u001b[1;34m(self, input_data)\u001b[0m\n\u001b[0;32m    358\u001b[0m       elif (input_stream_type == PacketDataType.IMAGE_FRAME or\n\u001b[0;32m    359\u001b[0m             input_stream_type == PacketDataType.IMAGE):\n\u001b[1;32m--> 360\u001b[1;33m         \u001b[1;32mif\u001b[0m \u001b[0mdata\u001b[0m\u001b[1;33m.\u001b[0m\u001b[0mshape\u001b[0m\u001b[1;33m[\u001b[0m\u001b[1;36m2\u001b[0m\u001b[1;33m]\u001b[0m \u001b[1;33m!=\u001b[0m \u001b[0mRGB_CHANNELS\u001b[0m\u001b[1;33m:\u001b[0m\u001b[1;33m\u001b[0m\u001b[1;33m\u001b[0m\u001b[0m\n\u001b[0m\u001b[0;32m    361\u001b[0m           \u001b[1;32mraise\u001b[0m \u001b[0mValueError\u001b[0m\u001b[1;33m(\u001b[0m\u001b[1;34m'Input image must contain three channel rgb data.'\u001b[0m\u001b[1;33m)\u001b[0m\u001b[1;33m\u001b[0m\u001b[1;33m\u001b[0m\u001b[0m\n\u001b[0;32m    362\u001b[0m         self._graph.add_packet_to_input_stream(\n",
      "\u001b[1;31mAttributeError\u001b[0m: 'NoneType' object has no attribute 'shape'"
     ]
    }
   ],
   "source": [
    "while True :\n",
    "    _, img = cap.read()\n",
    "    \n",
    "    img = detector.findHands(img, draw=True)\n",
    "    fingers = detector.fingersUp()\n",
    "    lmList, bbox = detector.findPosition(img, draw=True)\n",
    "\n",
    "    if lmList != [] :\n",
    "        length, img, lineInfo = detector.findDistance(4, 8, img)\n",
    "    \n",
    "    volBar = np.interp(length, [50,200], [400, 150])\n",
    "    volPer = np.interp(length, [50,200], [0, 100])\n",
    "\n",
    "    if not fingers[4]:\n",
    "        volume.SetMasterVolumeLevelScalar(volPer/100, None)\n",
    "    "
   ]
  }
 ],
 "metadata": {
  "kernelspec": {
   "display_name": "base",
   "language": "python",
   "name": "python3"
  },
  "language_info": {
   "codemirror_mode": {
    "name": "ipython",
    "version": 3
   },
   "file_extension": ".py",
   "mimetype": "text/x-python",
   "name": "python",
   "nbconvert_exporter": "python",
   "pygments_lexer": "ipython3",
   "version": "3.8.8"
  }
 },
 "nbformat": 4,
 "nbformat_minor": 2
}
